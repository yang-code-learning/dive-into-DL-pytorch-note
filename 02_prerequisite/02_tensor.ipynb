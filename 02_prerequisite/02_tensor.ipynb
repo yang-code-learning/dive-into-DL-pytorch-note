{
 "cells": [
  {
   "cell_type": "code",
   "execution_count": 1,
   "id": "ebb78ae7",
   "metadata": {},
   "outputs": [],
   "source": [
    "import numpy as np\n",
    "import torch"
   ]
  },
  {
   "cell_type": "markdown",
   "id": "5855cf17",
   "metadata": {},
   "source": [
    "## 1 创建 Tensor"
   ]
  },
  {
   "cell_type": "code",
   "execution_count": 2,
   "id": "5173c08d",
   "metadata": {},
   "outputs": [
    {
     "name": "stdout",
     "output_type": "stream",
     "text": [
      "tensor([[7.0692e+01, 6.0816e-43, 7.0692e+01],\n",
      "        [6.0816e-43, 7.0707e+01, 6.0816e-43],\n",
      "        [7.0707e+01, 6.0816e-43, 7.0704e+01],\n",
      "        [6.0816e-43, 7.0704e+01, 6.0816e-43],\n",
      "        [7.0717e+01, 6.0816e-43, 7.0717e+01]])\n"
     ]
    }
   ],
   "source": [
    "x = torch.empty(5, 3) # 未初始化的\n",
    "print(x)"
   ]
  },
  {
   "cell_type": "code",
   "execution_count": 3,
   "id": "e40bac93",
   "metadata": {},
   "outputs": [
    {
     "name": "stdout",
     "output_type": "stream",
     "text": [
      "tensor([[0.1081, 0.2539, 0.6131],\n",
      "        [0.6491, 0.8413, 0.4000],\n",
      "        [0.0845, 0.6805, 0.2759],\n",
      "        [0.2890, 0.5556, 0.3897],\n",
      "        [0.8954, 0.5275, 0.2817]])\n"
     ]
    }
   ],
   "source": [
    "x = torch.rand(5, 3) # 随机初始化的\n",
    "print(x)"
   ]
  },
  {
   "cell_type": "code",
   "execution_count": 4,
   "id": "3949159b",
   "metadata": {},
   "outputs": [
    {
     "name": "stdout",
     "output_type": "stream",
     "text": [
      "tensor([[0, 0, 0],\n",
      "        [0, 0, 0],\n",
      "        [0, 0, 0],\n",
      "        [0, 0, 0],\n",
      "        [0, 0, 0]])\n"
     ]
    }
   ],
   "source": [
    "x = torch.zeros(5, 3, dtype=torch.long) # 5x3的long型全0的\n",
    "print(x)"
   ]
  },
  {
   "cell_type": "code",
   "execution_count": 5,
   "id": "020a1580",
   "metadata": {},
   "outputs": [
    {
     "name": "stdout",
     "output_type": "stream",
     "text": [
      "tensor([5.5000, 3.0000])\n"
     ]
    }
   ],
   "source": [
    "x = torch.tensor([5.5, 3]) # 根据数据创建的，这是一个向量（一维）\n",
    "print(x)"
   ]
  },
  {
   "cell_type": "code",
   "execution_count": 23,
   "id": "56f053a7",
   "metadata": {},
   "outputs": [
    {
     "name": "stdout",
     "output_type": "stream",
     "text": [
      "tensor([[1., 1., 1.],\n",
      "        [1., 1., 1.],\n",
      "        [1., 1., 1.],\n",
      "        [1., 1., 1.],\n",
      "        [1., 1., 1.]], dtype=torch.float64)\n",
      "tensor([-1.3084, -0.2376])\n"
     ]
    }
   ],
   "source": [
    "# 返回的tensor默认具有相同的torch.dtype和torch.device\n",
    "y = x.new_ones(5, 3, dtype=torch.float64)\n",
    "print(y)\n",
    "\n",
    "y = torch.randn_like(x, dtype=torch.float)  # 指定新的数据类型\n",
    "print(y)"
   ]
  },
  {
   "cell_type": "code",
   "execution_count": 7,
   "id": "999226f3",
   "metadata": {},
   "outputs": [
    {
     "name": "stdout",
     "output_type": "stream",
     "text": [
      "torch.Size([2])\n",
      "torch.Size([2])\n",
      "2\n"
     ]
    }
   ],
   "source": [
    "print(x.size())\n",
    "print(x.shape)\n",
    "print(x.numel())"
   ]
  },
  {
   "cell_type": "markdown",
   "id": "b7637d3a",
   "metadata": {},
   "source": [
    "## 2 操作"
   ]
  },
  {
   "cell_type": "markdown",
   "id": "5fe0fab3",
   "metadata": {},
   "source": [
    "### 算术操作"
   ]
  },
  {
   "cell_type": "code",
   "execution_count": 8,
   "id": "5cd82ca1",
   "metadata": {},
   "outputs": [
    {
     "name": "stdout",
     "output_type": "stream",
     "text": [
      "tensor([[1.1313, 1.5622, 0.9919],\n",
      "        [1.1230, 1.4280, 0.2899],\n",
      "        [0.9636, 1.1940, 1.1247],\n",
      "        [0.9707, 1.5208, 0.6872],\n",
      "        [1.0495, 1.0271, 1.3564]])\n",
      "tensor([[1.1313, 1.5622, 0.9919],\n",
      "        [1.1230, 1.4280, 0.2899],\n",
      "        [0.9636, 1.1940, 1.1247],\n",
      "        [0.9707, 1.5208, 0.6872],\n",
      "        [1.0495, 1.0271, 1.3564]])\n",
      "tensor([[1.1313, 1.5622, 0.9919],\n",
      "        [1.1230, 1.4280, 0.2899],\n",
      "        [0.9636, 1.1940, 1.1247],\n",
      "        [0.9707, 1.5208, 0.6872],\n",
      "        [1.0495, 1.0271, 1.3564]])\n"
     ]
    }
   ],
   "source": [
    "x = torch.rand(5, 3)\n",
    "y = torch.rand(5, 3)\n",
    "print(x + y) # 形式一\n",
    "print(torch.add(x, y)) # 形式二\n",
    "print(y.add_(x)) # 形式三"
   ]
  },
  {
   "cell_type": "code",
   "execution_count": 9,
   "id": "589658ee",
   "metadata": {},
   "outputs": [
    {
     "name": "stdout",
     "output_type": "stream",
     "text": [
      "tensor([[1.3019, 2.3251, 1.2454],\n",
      "        [1.6681, 2.0890, 0.3749],\n",
      "        [1.5745, 1.5889, 1.3296],\n",
      "        [1.0088, 2.2503, 0.9171],\n",
      "        [1.9841, 1.3135, 1.7795]])\n"
     ]
    }
   ],
   "source": [
    "print(torch.add(x, y))"
   ]
  },
  {
   "cell_type": "markdown",
   "id": "3ba38e05",
   "metadata": {},
   "source": [
    "### 索引"
   ]
  },
  {
   "cell_type": "code",
   "execution_count": 10,
   "id": "38139721",
   "metadata": {},
   "outputs": [
    {
     "name": "stdout",
     "output_type": "stream",
     "text": [
      "tensor([1.1706, 1.7629, 1.2535])\n",
      "tensor([1.1706, 1.7629, 1.2535])\n"
     ]
    }
   ],
   "source": [
    "# 索引出来的结果与原数据共享内存\n",
    "y = x[0, :]\n",
    "y += 1\n",
    "print(y)\n",
    "print(x[0, :]) # 源tensor也被改了"
   ]
  },
  {
   "cell_type": "markdown",
   "id": "cf79a6c4",
   "metadata": {},
   "source": [
    "### 改变形状"
   ]
  },
  {
   "cell_type": "code",
   "execution_count": 11,
   "id": "102ad504",
   "metadata": {},
   "outputs": [
    {
     "name": "stdout",
     "output_type": "stream",
     "text": [
      "torch.Size([5, 3]) torch.Size([15]) torch.Size([3, 5])\n"
     ]
    }
   ],
   "source": [
    "y = x.view(15)\n",
    "z = x.view(-1, 5)  # -1所指的维度可以根据其他维度的值推出来\n",
    "print(x.size(), y.size(), z.size())"
   ]
  },
  {
   "cell_type": "code",
   "execution_count": 12,
   "id": "f3b44d82",
   "metadata": {},
   "outputs": [
    {
     "name": "stdout",
     "output_type": "stream",
     "text": [
      "tensor([[ 0.1706,  0.7629,  0.2535],\n",
      "        [-0.4549, -0.3390, -0.9150],\n",
      "        [-0.3891, -0.6051, -0.7951],\n",
      "        [-0.9619, -0.2705, -0.7701],\n",
      "        [-0.0655, -0.7137, -0.5769]])\n",
      "tensor([1.1706, 1.7629, 1.2535, 0.5451, 0.6610, 0.0850, 0.6109, 0.3949, 0.2049,\n",
      "        0.0381, 0.7295, 0.2299, 0.9345, 0.2863, 0.4231])\n"
     ]
    }
   ],
   "source": [
    "# Pytorch还提供了一个reshape()可以改变形状，\n",
    "# 但是此函数并不能保证返回的是其拷贝，所以不推荐使用。\n",
    "# 推荐先用clone创造一个副本然后再使用view\n",
    "x_cp = x.clone().view(15)\n",
    "x -= 1\n",
    "print(x)\n",
    "print(x_cp)"
   ]
  },
  {
   "cell_type": "code",
   "execution_count": 13,
   "id": "3c182acf",
   "metadata": {},
   "outputs": [
    {
     "name": "stdout",
     "output_type": "stream",
     "text": [
      "tensor([-0.5456])\n",
      "-0.5455626845359802\n"
     ]
    }
   ],
   "source": [
    "x = torch.randn(1)\n",
    "print(x)\n",
    "print(x.item()) # 转换成一个Python number，非numpy, 且只能是标量（0维）"
   ]
  },
  {
   "cell_type": "markdown",
   "id": "c02a2087",
   "metadata": {},
   "source": [
    "### 线性代数"
   ]
  },
  {
   "cell_type": "markdown",
   "id": "07ec210e",
   "metadata": {},
   "source": [
    "## 3 广播机制"
   ]
  },
  {
   "cell_type": "code",
   "execution_count": 14,
   "id": "757029cc",
   "metadata": {},
   "outputs": [
    {
     "name": "stdout",
     "output_type": "stream",
     "text": [
      "tensor([[1, 2]])\n",
      "tensor([[1],\n",
      "        [2],\n",
      "        [3]])\n",
      "tensor([[2, 3],\n",
      "        [3, 4],\n",
      "        [4, 5]])\n"
     ]
    }
   ],
   "source": [
    "x = torch.arange(1, 3).view(1, 2)\n",
    "print(x)\n",
    "y = torch.arange(1, 4).view(3, 1)\n",
    "print(y)\n",
    "print(x + y)"
   ]
  },
  {
   "cell_type": "markdown",
   "id": "dcaacbba",
   "metadata": {},
   "source": [
    "## 4 运算的内存开销"
   ]
  },
  {
   "cell_type": "code",
   "execution_count": 15,
   "id": "fc61bb56",
   "metadata": {},
   "outputs": [
    {
     "name": "stdout",
     "output_type": "stream",
     "text": [
      "False\n"
     ]
    }
   ],
   "source": [
    "x = torch.tensor([1, 2])\n",
    "y = torch.tensor([3, 4])\n",
    "id_before = id(y)\n",
    "y = y + x\n",
    "id_now = id(y)\n",
    "print(id_now == id_before) # False "
   ]
  },
  {
   "cell_type": "code",
   "execution_count": 16,
   "id": "938ede8b",
   "metadata": {},
   "outputs": [
    {
     "name": "stdout",
     "output_type": "stream",
     "text": [
      "True\n"
     ]
    }
   ],
   "source": [
    "x = torch.tensor([1, 2])\n",
    "y = torch.tensor([3, 4])\n",
    "id_before = id(y)\n",
    "y[:] = y + x\n",
    "id_now = id(y)\n",
    "print(id_now == id_before) # True"
   ]
  },
  {
   "cell_type": "code",
   "execution_count": 17,
   "id": "cd18b530",
   "metadata": {},
   "outputs": [
    {
     "name": "stdout",
     "output_type": "stream",
     "text": [
      "True\n"
     ]
    }
   ],
   "source": [
    "x = torch.tensor([1, 2])\n",
    "y = torch.tensor([3, 4])\n",
    "id_before = id(y)\n",
    "torch.add(x, y, out=y) # y += x, y.add_(x) 这里y+=x 和 y=y+x 不等效\n",
    "print(id(y) == id_before) # True"
   ]
  },
  {
   "cell_type": "markdown",
   "id": "4300424a",
   "metadata": {},
   "source": [
    "## 5 Tensor和NumPy相互转换"
   ]
  },
  {
   "cell_type": "code",
   "execution_count": 18,
   "id": "003b4aa3",
   "metadata": {},
   "outputs": [],
   "source": [
    "a = np.array([1,1,1,1])\n",
    "b = torch.from_numpy(a)"
   ]
  },
  {
   "cell_type": "markdown",
   "id": "1b5e2497",
   "metadata": {},
   "source": [
    "### Tensor 转 NumPy"
   ]
  },
  {
   "cell_type": "code",
   "execution_count": 19,
   "id": "49906b77",
   "metadata": {},
   "outputs": [
    {
     "name": "stdout",
     "output_type": "stream",
     "text": [
      "tensor([1., 1., 1., 1., 1.]) [1. 1. 1. 1. 1.]\n",
      "tensor([2., 2., 2., 2., 2.]) [2. 2. 2. 2. 2.]\n",
      "tensor([3., 3., 3., 3., 3.]) [3. 3. 3. 3. 3.]\n"
     ]
    }
   ],
   "source": [
    "a = torch.ones(5)\n",
    "b = a.numpy()\n",
    "print(a, b)\n",
    "\n",
    "a += 1\n",
    "print(a, b)\n",
    "b += 1\n",
    "print(a, b)"
   ]
  },
  {
   "cell_type": "markdown",
   "id": "24aeab60",
   "metadata": {},
   "source": [
    "### NumPy 转 Tensor"
   ]
  },
  {
   "cell_type": "code",
   "execution_count": 20,
   "id": "29b96102",
   "metadata": {},
   "outputs": [
    {
     "name": "stdout",
     "output_type": "stream",
     "text": [
      "[1. 1. 1. 1. 1.] tensor([1., 1., 1., 1., 1.], dtype=torch.float64)\n",
      "[2. 2. 2. 2. 2.] tensor([2., 2., 2., 2., 2.], dtype=torch.float64)\n",
      "[3. 3. 3. 3. 3.] tensor([3., 3., 3., 3., 3.], dtype=torch.float64)\n"
     ]
    }
   ],
   "source": [
    "import numpy as np\n",
    "a = np.ones(5)\n",
    "b = torch.from_numpy(a)\n",
    "print(a, b)\n",
    "\n",
    "a += 1\n",
    "print(a, b)\n",
    "b += 1\n",
    "print(a, b)"
   ]
  },
  {
   "cell_type": "code",
   "execution_count": 21,
   "id": "4d4694cb",
   "metadata": {},
   "outputs": [
    {
     "name": "stdout",
     "output_type": "stream",
     "text": [
      "[4. 4. 4. 4. 4.] tensor([3., 3., 3., 3., 3.], dtype=torch.float64)\n"
     ]
    }
   ],
   "source": [
    "c = torch.tensor(a)\n",
    "a += 1\n",
    "print(a, c)"
   ]
  },
  {
   "cell_type": "markdown",
   "id": "f5045a31",
   "metadata": {},
   "source": [
    "## 6 Tensor on GPU"
   ]
  },
  {
   "cell_type": "code",
   "execution_count": 22,
   "id": "d07f67e0",
   "metadata": {},
   "outputs": [],
   "source": [
    "if torch.cuda.is_available():\n",
    "    device = torch.device(\"cuda\")          # GPU\n",
    "    y = torch.ones_like(x, device=device)  # 直接创建一个在GPU上的Tensor\n",
    "    x = x.to(device)                       # 等价于 .to(\"cuda\")\n",
    "    z = x + y\n",
    "    print(z)\n",
    "    print(z.to(\"cpu\", torch.double))       # to()还可以同时更改数据类型"
   ]
  }
 ],
 "metadata": {
  "kernelspec": {
   "display_name": "Python 3 (ipykernel)",
   "language": "python",
   "name": "python3"
  },
  "language_info": {
   "codemirror_mode": {
    "name": "ipython",
    "version": 3
   },
   "file_extension": ".py",
   "mimetype": "text/x-python",
   "name": "python",
   "nbconvert_exporter": "python",
   "pygments_lexer": "ipython3",
   "version": "3.8.12"
  }
 },
 "nbformat": 4,
 "nbformat_minor": 5
}
