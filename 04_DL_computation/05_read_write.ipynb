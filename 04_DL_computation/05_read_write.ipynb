{
 "cells": [
  {
   "cell_type": "code",
   "execution_count": 22,
   "id": "83968353",
   "metadata": {},
   "outputs": [],
   "source": [
    "import torch\n",
    "from torch import nn\n",
    "from torch.nn import functional as F"
   ]
  },
  {
   "cell_type": "markdown",
   "id": "48be6b75",
   "metadata": {},
   "source": [
    "## 1 读写Tensor"
   ]
  },
  {
   "cell_type": "code",
   "execution_count": 2,
   "id": "089a6898",
   "metadata": {},
   "outputs": [],
   "source": [
    "x = torch.arange(4)\n",
    "torch.save(x, './data/x-file')\n",
    "\n",
    "x2 = torch.load(\"./data/x-file\")\n",
    "print(x2)"
   ]
  },
  {
   "cell_type": "code",
   "execution_count": 17,
   "id": "8fecda5b",
   "metadata": {
    "scrolled": false
   },
   "outputs": [
    {
     "name": "stdout",
     "output_type": "stream",
     "text": [
      "tensor([0, 1, 2, 3]) \n",
      " tensor([0., 0., 0., 0.])\n"
     ]
    }
   ],
   "source": [
    "y = torch.zeros(4)\n",
    "torch.save([x, y], \"./data/x-files\")\n",
    "\n",
    "x2, y2 = torch.load(\"./data/x-files\")\n",
    "print(x2, '\\n', y2)"
   ]
  },
  {
   "cell_type": "code",
   "execution_count": 18,
   "id": "32f6257b",
   "metadata": {},
   "outputs": [
    {
     "name": "stdout",
     "output_type": "stream",
     "text": [
      "{'x': tensor([0, 1, 2, 3]), 'y': tensor([0., 0., 0., 0.])}\n"
     ]
    }
   ],
   "source": [
    "# 存储字符串映射到张量的字典\n",
    "mydict = {'x':x, 'y':y}\n",
    "torch.save(mydict, './data/mydict')\n",
    "mydict2 = torch.load('./data/mydict')\n",
    "print(mydict2)"
   ]
  },
  {
   "cell_type": "markdown",
   "id": "0cfd687a",
   "metadata": {},
   "source": [
    "## 2 读写模型"
   ]
  },
  {
   "cell_type": "code",
   "execution_count": 23,
   "id": "b5bf2063",
   "metadata": {},
   "outputs": [],
   "source": [
    "class MLP(nn.Module):\n",
    "    def __init__(self):\n",
    "        super().__init__()\n",
    "        self.hidden = nn.Linear(20, 256)\n",
    "        self.output = nn.Linear(256, 10)\n",
    "    def forward(self, x):\n",
    "        return self.output(F.relu(self.hidden(x)))\n",
    "net = MLP()\n",
    "X = torch.rand(size=(2, 20))\n",
    "Y = net(X)"
   ]
  },
  {
   "cell_type": "code",
   "execution_count": 26,
   "id": "405d03bd",
   "metadata": {},
   "outputs": [],
   "source": [
    "# 将模型参数存储\n",
    "torch.save(net.state_dict(), './data/mlp.params')"
   ]
  },
  {
   "cell_type": "code",
   "execution_count": 29,
   "id": "6824fc00",
   "metadata": {},
   "outputs": [
    {
     "data": {
      "text/plain": [
       "tensor([[True, True, True, True, True, True, True, True, True, True],\n",
       "        [True, True, True, True, True, True, True, True, True, True]])"
      ]
     },
     "execution_count": 29,
     "metadata": {},
     "output_type": "execute_result"
    }
   ],
   "source": [
    "clone = MLP()\n",
    "clone.load_state_dict(torch.load('./data/mlp.params'))\n",
    "clone.eval()\n",
    "\n",
    "# 验证clone结果和原先一致\n",
    "Y_clone = clone(X)\n",
    "Y_clone == Y"
   ]
  }
 ],
 "metadata": {
  "kernelspec": {
   "display_name": "Python 3 (ipykernel)",
   "language": "python",
   "name": "python3"
  },
  "language_info": {
   "codemirror_mode": {
    "name": "ipython",
    "version": 3
   },
   "file_extension": ".py",
   "mimetype": "text/x-python",
   "name": "python",
   "nbconvert_exporter": "python",
   "pygments_lexer": "ipython3",
   "version": "3.8.12"
  }
 },
 "nbformat": 4,
 "nbformat_minor": 5
}
