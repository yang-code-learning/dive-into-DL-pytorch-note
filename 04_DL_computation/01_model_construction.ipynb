{
 "cells": [
  {
   "cell_type": "code",
   "execution_count": 1,
   "id": "e2393569",
   "metadata": {},
   "outputs": [],
   "source": [
    "import torch\n",
    "from torch import nn\n",
    "from torch.nn import functional as F"
   ]
  },
  {
   "cell_type": "code",
   "execution_count": 2,
   "id": "06b32599",
   "metadata": {},
   "outputs": [
    {
     "data": {
      "text/plain": [
       "tensor([[ 0.0539,  0.0287,  0.1540, -0.1064, -0.0486,  0.0976,  0.3424, -0.3222,\n",
       "          0.0243, -0.1563],\n",
       "        [-0.0095, -0.0179,  0.1302, -0.1228,  0.0093,  0.1753,  0.1790, -0.1774,\n",
       "          0.0051, -0.1918]], grad_fn=<AddmmBackward0>)"
      ]
     },
     "execution_count": 2,
     "metadata": {},
     "output_type": "execute_result"
    }
   ],
   "source": [
    "net = nn.Sequential(nn.Linear(20, 256),\n",
    "                    nn.ReLU(),\n",
    "                    nn.Linear(256, 10))\n",
    "X = torch.rand(2, 20)\n",
    "net(X)"
   ]
  },
  {
   "cell_type": "markdown",
   "id": "47eae8e6",
   "metadata": {},
   "source": [
    "## 1 继承Module类来构造模型"
   ]
  },
  {
   "cell_type": "code",
   "execution_count": 3,
   "id": "bbba27f4",
   "metadata": {},
   "outputs": [],
   "source": [
    "class MLP(nn.Module):\n",
    "    def __init__(self):\n",
    "        super().__init__()\n",
    "        self.hidden = nn.Linear(20, 256)\n",
    "        self.out = nn.Linear(256, 10)\n",
    "        \n",
    "    def forward(self, X):\n",
    "        return self.out(F.relu(self.hidden(X)))"
   ]
  },
  {
   "cell_type": "code",
   "execution_count": 4,
   "id": "8dfbbc95",
   "metadata": {},
   "outputs": [
    {
     "data": {
      "text/plain": [
       "tensor([[-0.1693, -0.2198,  0.1756, -0.2204, -0.0962,  0.0329, -0.2671, -0.4018,\n",
       "          0.2565,  0.0114],\n",
       "        [-0.2469, -0.0758,  0.2663, -0.0730, -0.0912,  0.1079, -0.0872, -0.1593,\n",
       "          0.2410,  0.0986]], grad_fn=<AddmmBackward0>)"
      ]
     },
     "execution_count": 4,
     "metadata": {},
     "output_type": "execute_result"
    }
   ],
   "source": [
    "net = MLP()\n",
    "net(X)"
   ]
  },
  {
   "cell_type": "markdown",
   "id": "a962e68b",
   "metadata": {},
   "source": [
    "## 2 Module的子类"
   ]
  },
  {
   "cell_type": "markdown",
   "id": "e7af8cbb",
   "metadata": {},
   "source": [
    "### 2.1 Sequential类"
   ]
  },
  {
   "cell_type": "code",
   "execution_count": 5,
   "id": "44ae7eec",
   "metadata": {},
   "outputs": [],
   "source": [
    "class MySequential(nn.Module):\n",
    "    def __init__(self, *args):\n",
    "        super().__init__()\n",
    "        for block in args:\n",
    "            # 这里，`block`是`Module`子类的一个实例。我们把它保存在'Module'类的成员变量\n",
    "            # `_modules` 中。`block`的类型是OrderedDict。\n",
    "            self._modules[block] = block\n",
    "\n",
    "    def forward(self, X):\n",
    "        # OrderedDict保证了按照成员添加的顺序遍历它们\n",
    "        for block in self._modules.values():\n",
    "            X = block(X)\n",
    "        return X"
   ]
  },
  {
   "cell_type": "code",
   "execution_count": 6,
   "id": "fd64760c",
   "metadata": {},
   "outputs": [
    {
     "data": {
      "text/plain": [
       "tensor([[-0.1427,  0.1705,  0.2294, -0.0717,  0.1826,  0.0888, -0.0362,  0.0734,\n",
       "         -0.5342, -0.2601],\n",
       "        [-0.0887,  0.1842,  0.2278,  0.0366,  0.1085,  0.0302, -0.0505,  0.0420,\n",
       "         -0.3528, -0.2607]], grad_fn=<AddmmBackward0>)"
      ]
     },
     "execution_count": 6,
     "metadata": {},
     "output_type": "execute_result"
    }
   ],
   "source": [
    "net = MySequential(nn.Linear(20, 256), nn.ReLU(), nn.Linear(256, 10))\n",
    "net(X)"
   ]
  },
  {
   "cell_type": "markdown",
   "id": "1e604180",
   "metadata": {},
   "source": [
    "### 2.2 ModuleList类"
   ]
  },
  {
   "cell_type": "markdown",
   "id": "367f4daf",
   "metadata": {},
   "source": [
    "### 2.3 ModuleDict类"
   ]
  },
  {
   "cell_type": "markdown",
   "id": "d9bbcc9b",
   "metadata": {},
   "source": [
    "## 3 构造复杂的模型"
   ]
  },
  {
   "cell_type": "code",
   "execution_count": 7,
   "id": "ac353037",
   "metadata": {},
   "outputs": [],
   "source": [
    "class FixedHiddenMLP(nn.Module):\n",
    "    def __init__(self):\n",
    "        super().__init__()\n",
    "        # 不计算梯度的随机权重参数。因此其在训练期间保持不变。\n",
    "        self.rand_weight = torch.rand((20, 20), requires_grad=False)\n",
    "        self.linear = nn.Linear(20, 20)\n",
    "\n",
    "    def forward(self, X):\n",
    "        X = self.linear(X)\n",
    "        # 使用创建的常量参数以及`relu`和`dot`函数。\n",
    "        X = F.relu(torch.mm(X, self.rand_weight) + 1)\n",
    "        # 复用全连接层。这相当于两个全连接层共享参数。\n",
    "        X = self.linear(X)\n",
    "        # 控制流\n",
    "        while X.abs().sum() > 1:\n",
    "            X /= 2\n",
    "        return X.sum()"
   ]
  },
  {
   "cell_type": "code",
   "execution_count": 8,
   "id": "d9d8c012",
   "metadata": {},
   "outputs": [
    {
     "data": {
      "text/plain": [
       "tensor(-0.1686, grad_fn=<SumBackward0>)"
      ]
     },
     "execution_count": 8,
     "metadata": {},
     "output_type": "execute_result"
    }
   ],
   "source": [
    "net = FixedHiddenMLP()\n",
    "net(X)"
   ]
  },
  {
   "cell_type": "code",
   "execution_count": 9,
   "id": "3b65469f",
   "metadata": {},
   "outputs": [
    {
     "data": {
      "text/plain": [
       "tensor(0.2461, grad_fn=<SumBackward0>)"
      ]
     },
     "execution_count": 9,
     "metadata": {},
     "output_type": "execute_result"
    }
   ],
   "source": [
    "class NestMLP(nn.Module):\n",
    "    def __init__(self):\n",
    "        super().__init__()\n",
    "        self.net = nn.Sequential(nn.Linear(20, 64), nn.ReLU(),\n",
    "                                 nn.Linear(64, 32), nn.ReLU())\n",
    "        self.linear = nn.Linear(32, 16)\n",
    "\n",
    "    def forward(self, X):\n",
    "        return self.linear(self.net(X))\n",
    "\n",
    "chimera = nn.Sequential(NestMLP(), nn.Linear(16, 20), FixedHiddenMLP())\n",
    "chimera(X)"
   ]
  }
 ],
 "metadata": {
  "kernelspec": {
   "display_name": "Python 3 (ipykernel)",
   "language": "python",
   "name": "python3"
  },
  "language_info": {
   "codemirror_mode": {
    "name": "ipython",
    "version": 3
   },
   "file_extension": ".py",
   "mimetype": "text/x-python",
   "name": "python",
   "nbconvert_exporter": "python",
   "pygments_lexer": "ipython3",
   "version": "3.8.12"
  }
 },
 "nbformat": 4,
 "nbformat_minor": 5
}
