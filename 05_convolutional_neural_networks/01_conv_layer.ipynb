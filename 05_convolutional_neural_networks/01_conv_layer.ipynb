{
 "cells": [
  {
   "cell_type": "code",
   "execution_count": 5,
   "id": "e7ab7031",
   "metadata": {},
   "outputs": [],
   "source": [
    "import torch\n",
    "from torch import nn\n",
    "from d2l import torch as d2l"
   ]
  },
  {
   "cell_type": "markdown",
   "id": "a54854bf",
   "metadata": {},
   "source": [
    "## 1 二维互相关运算"
   ]
  },
  {
   "cell_type": "code",
   "execution_count": 6,
   "id": "218a40e7",
   "metadata": {},
   "outputs": [],
   "source": [
    "def corr2d(X, K):  #@save K for kernel，X for local image \n",
    "    \"\"\"计算二维互相关运算。\"\"\"\n",
    "    h, w = K.shape \n",
    "    Y = torch.zeros((X.shape[0] - h + 1, X.shape[1] - w + 1))\n",
    "    for i in range(Y.shape[0]):\n",
    "        for j in range(Y.shape[1]):\n",
    "            Y[i, j] = (X[i:i + h, j:j + w] * K).sum()\n",
    "    return Y"
   ]
  },
  {
   "cell_type": "markdown",
   "id": "fac6ac43",
   "metadata": {},
   "source": [
    "## 2 二维卷积层"
   ]
  },
  {
   "cell_type": "code",
   "execution_count": 8,
   "id": "13f6f5ac",
   "metadata": {},
   "outputs": [],
   "source": [
    "class conv2d(nn.Module):\n",
    "    def __init__():\n",
    "        super().__init__()\n",
    "        self.weight = nn.Parameter(torch.rang(kernel_size))\n",
    "        self.bias = nn.Parameter(torch.zeros(1))\n",
    "    def forward(self, x):\n",
    "        return corrd2d(x, self.weight) + self.bias"
   ]
  },
  {
   "cell_type": "markdown",
   "id": "78f0d38e",
   "metadata": {},
   "source": [
    "## 3 图像中物体边缘检测"
   ]
  },
  {
   "cell_type": "code",
   "execution_count": 10,
   "id": "027d95fb",
   "metadata": {
    "scrolled": true
   },
   "outputs": [
    {
     "name": "stdout",
     "output_type": "stream",
     "text": [
      "tensor([[1., 1., 0., 0., 0., 0., 1., 1.],\n",
      "        [1., 1., 0., 0., 0., 0., 1., 1.],\n",
      "        [1., 1., 0., 0., 0., 0., 1., 1.],\n",
      "        [1., 1., 0., 0., 0., 0., 1., 1.],\n",
      "        [1., 1., 0., 0., 0., 0., 1., 1.],\n",
      "        [1., 1., 0., 0., 0., 0., 1., 1.]])\n"
     ]
    }
   ],
   "source": [
    "X = torch.ones((6, 8))\n",
    "X[:,2:6] = 0\n",
    "print(X)"
   ]
  },
  {
   "cell_type": "code",
   "execution_count": 12,
   "id": "e1eb413c",
   "metadata": {},
   "outputs": [
    {
     "name": "stdout",
     "output_type": "stream",
     "text": [
      "tensor([[ 0.,  1.,  0.,  0.,  0., -1.,  0.],\n",
      "        [ 0.,  1.,  0.,  0.,  0., -1.,  0.],\n",
      "        [ 0.,  1.,  0.,  0.,  0., -1.,  0.],\n",
      "        [ 0.,  1.,  0.,  0.,  0., -1.,  0.],\n",
      "        [ 0.,  1.,  0.,  0.,  0., -1.,  0.],\n",
      "        [ 0.,  1.,  0.,  0.,  0., -1.,  0.]])\n"
     ]
    }
   ],
   "source": [
    "K = torch.tensor([[1.0, -1.0]])\n",
    "Y = corr2d(X, K)\n",
    "print(Y) # 1 表示白色到黑色的边缘（左到右）， 只能检测垂直边缘"
   ]
  },
  {
   "cell_type": "markdown",
   "id": "c370c22c",
   "metadata": {},
   "source": [
    "## 4 通过数据学习核数组"
   ]
  },
  {
   "cell_type": "code",
   "execution_count": 15,
   "id": "69f95479",
   "metadata": {},
   "outputs": [
    {
     "name": "stdout",
     "output_type": "stream",
     "text": [
      "batch 2, loss 13.374\n",
      "batch 4, loss 3.498\n",
      "batch 6, loss 1.101\n",
      "batch 8, loss 0.395\n",
      "batch 10, loss 0.152\n"
     ]
    }
   ],
   "source": [
    "conv2d = nn.Conv2d(1, 1, kernel_size=(1, 2), bias=False) # 初始化一个核，1->1通道及大小\n",
    "\n",
    "X = X.reshape((1, 1, 6, 8)) # 通道维、批量大小维\n",
    "Y = Y.reshape((1, 1, 6, 7))\n",
    "\n",
    "for i in range(10):\n",
    "    Y_hat = conv2d(X)\n",
    "    l = (Y_hat - Y) ** 2\n",
    "    conv2d.zero_grad()\n",
    "    l.sum().backward()\n",
    "    conv2d.weight.data[:] -= 3e-2 * conv2d.weight.grad # 简单的SGD\n",
    "    if (i + 1) % 2 == 0:\n",
    "        print(f'batch {i+1}, loss {l.sum():.3f}')"
   ]
  },
  {
   "cell_type": "code",
   "execution_count": 16,
   "id": "ce184000",
   "metadata": {},
   "outputs": [
    {
     "data": {
      "text/plain": [
       "tensor([[ 1.0246, -0.9457]])"
      ]
     },
     "execution_count": 16,
     "metadata": {},
     "output_type": "execute_result"
    }
   ],
   "source": [
    "conv2d.weight.data.reshape((1, 2)) # 结果和[1, -1]差不多了"
   ]
  }
 ],
 "metadata": {
  "kernelspec": {
   "display_name": "Python 3 (ipykernel)",
   "language": "python",
   "name": "python3"
  },
  "language_info": {
   "codemirror_mode": {
    "name": "ipython",
    "version": 3
   },
   "file_extension": ".py",
   "mimetype": "text/x-python",
   "name": "python",
   "nbconvert_exporter": "python",
   "pygments_lexer": "ipython3",
   "version": "3.8.12"
  }
 },
 "nbformat": 4,
 "nbformat_minor": 5
}
