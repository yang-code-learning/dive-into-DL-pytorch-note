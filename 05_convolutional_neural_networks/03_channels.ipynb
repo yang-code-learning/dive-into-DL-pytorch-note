{
 "cells": [
  {
   "cell_type": "code",
   "execution_count": 2,
   "id": "b61eaa39",
   "metadata": {},
   "outputs": [],
   "source": [
    "import torch\n",
    "from d2l import torch as d2l"
   ]
  },
  {
   "cell_type": "markdown",
   "id": "c46c9ccf",
   "metadata": {},
   "source": [
    "## 1 多输入通道"
   ]
  },
  {
   "cell_type": "code",
   "execution_count": 5,
   "id": "84d82b97",
   "metadata": {},
   "outputs": [],
   "source": [
    "def corr2d(X, K):  #@save K for kernel，X for local image \n",
    "    \"\"\"计算二维互相关运算。\"\"\"\n",
    "    h, w = K.shape \n",
    "    Y = torch.zeros((X.shape[0] - h + 1, X.shape[1] - w + 1))\n",
    "    for i in range(Y.shape[0]):\n",
    "        for j in range(Y.shape[1]):\n",
    "            Y[i, j] = (X[i:i + h, j:j + w] * K).sum()\n",
    "    return Y\n",
    "\n",
    "def corr2d_multi_in(X, K): # X 为n通道图像，K为对应n通道内核, 返回的是单通道的图像\n",
    "    return sum(corr2d(x, k) for x, k in zip(X, K))"
   ]
  },
  {
   "cell_type": "code",
   "execution_count": 11,
   "id": "dd444c9d",
   "metadata": {},
   "outputs": [
    {
     "name": "stdout",
     "output_type": "stream",
     "text": [
      "tensor([[ 56.,  72.],\n",
      "        [104., 120.]])\n"
     ]
    }
   ],
   "source": [
    "X = torch.tensor([[[0.0, 1.0, 2.0], [3.0, 4.0, 5.0], [6.0, 7.0, 8.0]],\n",
    "                  [[1.0, 2.0, 3.0], [4.0, 5.0, 6.0], [7.0, 8.0, 9.0]]])\n",
    "K = torch.tensor([[[0.0, 1.0], [2.0, 3.0]], [[1.0, 2.0], [3.0, 4.0]]])\n",
    "print(corr2d_multi_in(X, K))"
   ]
  },
  {
   "cell_type": "markdown",
   "id": "4f2eacc2",
   "metadata": {},
   "source": [
    "## 2 多输出通道"
   ]
  },
  {
   "cell_type": "code",
   "execution_count": 8,
   "id": "c19d63c7",
   "metadata": {},
   "outputs": [],
   "source": [
    "def corr2d_multi_in_out(X, K):\n",
    "    # 迭代“K”的第0个维度，每次都对输入“X”执行互相关运算。\n",
    "    # 最后将所有结果都叠加在一起\n",
    "    return torch.stack([corr2d_multi_in(X, k) for k in K], 0)"
   ]
  },
  {
   "cell_type": "code",
   "execution_count": 12,
   "id": "31edbaec",
   "metadata": {},
   "outputs": [
    {
     "name": "stdout",
     "output_type": "stream",
     "text": [
      "torch.Size([3, 2, 2, 2])\n",
      "tensor([[[ 56.,  72.],\n",
      "         [104., 120.]],\n",
      "\n",
      "        [[ 76., 100.],\n",
      "         [148., 172.]],\n",
      "\n",
      "        [[ 96., 128.],\n",
      "         [192., 224.]]])\n"
     ]
    }
   ],
   "source": [
    "K = torch.tensor([[[0.0, 1.0], [2.0, 3.0]], [[1.0, 2.0], [3.0, 4.0]]])\n",
    "K = torch.stack((K, K + 1, K + 2), 0) # 构造3输出通道，stack创建新维度\n",
    "print(K.shape)\n",
    "print(corr2d_multi_in_out(X, K))"
   ]
  },
  {
   "cell_type": "markdown",
   "id": "c1ff95d5",
   "metadata": {},
   "source": [
    "## 3 1×1卷积层"
   ]
  },
  {
   "cell_type": "code",
   "execution_count": 30,
   "id": "6f9442f5",
   "metadata": {},
   "outputs": [],
   "source": [
    "def corr2d_multi_in_out_1x1(X, K):\n",
    "    c_i, h, w = X.shape\n",
    "    c_o = K.shape[0]\n",
    "    X = X.reshape((c_i, h * w)) # h*w相当于展平，用于全连接\n",
    "    K = K.reshape((c_o, c_i)) # 全连接层的参数\n",
    "    # 全连接层中的矩阵乘法\n",
    "    Y = torch.matmul(K, X)\n",
    "    return Y.reshape((c_o, h, w))"
   ]
  },
  {
   "cell_type": "code",
   "execution_count": 31,
   "id": "a7f99ef5",
   "metadata": {},
   "outputs": [],
   "source": [
    "X = torch.normal(0, 1, (3, 3, 3)) # 3通道3*3图像，按照标准正态分布\n",
    "K = torch.normal(0, 1, (2, 3, 1, 1)) # 正态分布的（01）的2out，3in 的1*1卷积核"
   ]
  },
  {
   "cell_type": "code",
   "execution_count": 35,
   "id": "db521fb1",
   "metadata": {},
   "outputs": [],
   "source": [
    "Y1 = corr2d_multi_in_out_1x1(X, K)\n",
    "Y2 = corr2d_multi_in_out(X, K)\n",
    "assert float(torch.abs(Y1 - Y2).sum()) < 1e-6"
   ]
  },
  {
   "cell_type": "code",
   "execution_count": null,
   "id": "52921cd2",
   "metadata": {},
   "outputs": [],
   "source": []
  }
 ],
 "metadata": {
  "kernelspec": {
   "display_name": "Python 3 (ipykernel)",
   "language": "python",
   "name": "python3"
  },
  "language_info": {
   "codemirror_mode": {
    "name": "ipython",
    "version": 3
   },
   "file_extension": ".py",
   "mimetype": "text/x-python",
   "name": "python",
   "nbconvert_exporter": "python",
   "pygments_lexer": "ipython3",
   "version": "3.8.12"
  }
 },
 "nbformat": 4,
 "nbformat_minor": 5
}
