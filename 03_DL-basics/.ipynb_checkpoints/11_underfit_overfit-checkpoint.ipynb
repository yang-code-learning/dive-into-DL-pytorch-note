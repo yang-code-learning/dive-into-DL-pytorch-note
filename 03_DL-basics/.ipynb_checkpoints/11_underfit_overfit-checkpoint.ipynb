{
 "cells": [
  {
   "cell_type": "code",
   "execution_count": 1,
   "id": "2e89a2b9",
   "metadata": {},
   "outputs": [],
   "source": [
    "import math\n",
    "import numpy as np\n",
    "import torch\n",
    "from torch import nn\n",
    "from d2l import torch as d2l"
   ]
  },
  {
   "cell_type": "markdown",
   "id": "0c14066e",
   "metadata": {},
   "source": [
    "## 1 生成数据集"
   ]
  },
  {
   "cell_type": "markdown",
   "id": "b2ebb4c8",
   "metadata": {},
   "source": [
    "## 2 定义、训练和测试模型"
   ]
  },
  {
   "cell_type": "markdown",
   "id": "ad416448",
   "metadata": {},
   "source": [
    "## 3 三阶多项式函数拟合（正常）"
   ]
  },
  {
   "cell_type": "markdown",
   "id": "1951af37",
   "metadata": {},
   "source": [
    "## 4 线性函数拟合（欠拟合）"
   ]
  },
  {
   "cell_type": "markdown",
   "id": "c68137b5",
   "metadata": {},
   "source": [
    "## 5 训练样本不足（过拟合）"
   ]
  },
  {
   "cell_type": "code",
   "execution_count": null,
   "id": "f389bb6c",
   "metadata": {},
   "outputs": [],
   "source": []
  }
 ],
 "metadata": {
  "kernelspec": {
   "display_name": "Python 3 (ipykernel)",
   "language": "python",
   "name": "python3"
  },
  "language_info": {
   "codemirror_mode": {
    "name": "ipython",
    "version": 3
   },
   "file_extension": ".py",
   "mimetype": "text/x-python",
   "name": "python",
   "nbconvert_exporter": "python",
   "pygments_lexer": "ipython3",
   "version": "3.8.12"
  }
 },
 "nbformat": 4,
 "nbformat_minor": 5
}
